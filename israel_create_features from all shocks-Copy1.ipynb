{
 "cells": [
  {
   "cell_type": "code",
   "execution_count": null,
   "metadata": {},
   "outputs": [],
   "source": [
    "import math\n",
    "import numpy as np\n",
    "import matplotlib\n",
    "import matplotlib.pyplot as plt\n",
    "from datetime import datetime as dt\n",
    "import seaborn as sns\n",
    "import pandas as pd\n",
    "from os import listdir\n",
    "pd.options.display.float_format = '{:.4f}'.format\n",
    "from geopy import distance\n",
    "from geopy import Point\n",
    "import geopandas\n",
    "import shapely\n",
    "from sklearn.linear_model import LinearRegression\n",
    "from sklearn.metrics import mean_squared_error"
   ]
  },
  {
   "cell_type": "code",
   "execution_count": null,
   "metadata": {},
   "outputs": [],
   "source": [
    "# round to .1 so can round the magnitudes to get number earthquakes with a magnitude\n",
    "def mytenths(mag):\n",
    "    return round(.1 * math.floor(float(mag)/.1 + .00000001), 2)"
   ]
  },
  {
   "cell_type": "code",
   "execution_count": null,
   "metadata": {
    "scrolled": true
   },
   "outputs": [],
   "source": [
    "# read back in Israel data that was saved to disk\n",
    "data_dir = \"C:\\\\Users\\\\User\\\\Debbie\\\\Data\\\\\"\n",
    "file_path = data_dir + \"output\\\\israel_shocks.csv\"\n",
    "fileToRead = open(file_path, mode='r')\n",
    "isdr = pd.read_csv(fileToRead)\n",
    "fileToRead.close()\n",
    "isdr['datetime'] = pd.to_datetime(isdr['datetime'])\n",
    "ismain = isdr[isdr['shocks']=='S'][['region','mag','datetime']]\n",
    "ismain"
   ]
  },
  {
   "cell_type": "code",
   "execution_count": null,
   "metadata": {
    "scrolled": true
   },
   "outputs": [],
   "source": [
    "ismain['year'] = ismain['datetime'].dt.year\n",
    "ismain"
   ]
  },
  {
   "cell_type": "code",
   "execution_count": null,
   "metadata": {},
   "outputs": [],
   "source": [
    "ismain.groupby(['region','year'])['mag'].count()"
   ]
  },
  {
   "cell_type": "code",
   "execution_count": null,
   "metadata": {},
   "outputs": [],
   "source": [
    "regs = ['Eilat-Deep','Aragonese-Deep','Arava','E.Mediter.Sea','Cyprus','Dead-Sea-Basin','Lebanon',\n",
    "        'Sinai','Arnona-Dakar-Deep','Suez']"
   ]
  },
  {
   "cell_type": "code",
   "execution_count": null,
   "metadata": {},
   "outputs": [],
   "source": [
    "# Data for a specific year represent values for the previous year or up to 50 years previous "
   ]
  },
  {
   "cell_type": "code",
   "execution_count": null,
   "metadata": {},
   "outputs": [],
   "source": [
    "# calculate the square root of the energy according to the power law\n",
    "def energy(mag):\n",
    "    return math.sqrt(pow(10,11.2+1.5*mag))"
   ]
  },
  {
   "cell_type": "code",
   "execution_count": null,
   "metadata": {},
   "outputs": [],
   "source": [
    "# Calculates the Tn, mean Magnitude sqrt of Energy rateE over window_size number of rows\n",
    "# Also calculates the magnitude to 1 decimal place for use in the regressions (power law)\n",
    "# updated for the correct calculation of b for magnitudes greater than m\n",
    "\n",
    "def feats(cl, window_size):\n",
    "    cac = ismain[ismain['region']==cl].reset_index(drop=True)\n",
    "    cac['tn'] = cac['datetime'].diff(periods=window_size).dt.days\n",
    "    cac['meanMag'] = cac['mag'].shift(1).rolling(window_size).mean()\n",
    "    cac['sqrtEnergy'] = cac['mag'].shift(1).apply(lambda x: energy(x))\n",
    "    cac['rateE'] = cac['sqrtEnergy'].rolling(window_size).sum().div(cac['tn'], axis=0)\n",
    "    \n",
    "    # take mag to one decimal place for grouping\n",
    "    cac['magg'] = cac.mag.apply(lambda x: mytenths(x))\n",
    "    \n",
    "    # calculate slope, intercept and mse according to least squares\n",
    "    cac['a'] = 0\n",
    "    cac['b'] = 0\n",
    "    cac['mse'] = 0\n",
    "    cac['deltaM'] = 0\n",
    "        \n",
    "    for i in range(0, len(cac)-window_size):  \n",
    "        df = cac[i:i+window_size-1]\n",
    "        x = []\n",
    "        logn = [] \n",
    "        for m in df.magg:\n",
    "            x.append(m)\n",
    "            logn.append(math.log10(df[df['magg']>=m]['magg'].count()))\n",
    "        x = np.array(x).reshape(-1,1) # take the magnitudes    \n",
    "                         \n",
    "        reg = LinearRegression()\n",
    "        reg.fit(x, logn)\n",
    "        yhat = reg.predict(x)\n",
    "        cac.loc[i+window_size,'a'] = reg.intercept_\n",
    "        cac.loc[i+window_size,'b'] = reg.coef_[0]\n",
    "        cac.loc[i+window_size,'mse'] = mean_squared_error(logn, yhat) \n",
    "    cac.deltaM = abs(cac.a/cac.b)\n",
    "    return cac"
   ]
  },
  {
   "cell_type": "code",
   "execution_count": null,
   "metadata": {},
   "outputs": [],
   "source": []
  },
  {
   "cell_type": "code",
   "execution_count": null,
   "metadata": {},
   "outputs": [],
   "source": [
    "# creates yearly data and calculates the MA1-MA10 and PR(MA1)-PR(MA10) and the x6 rolling averages\n",
    "def cayr(df):\n",
    "    df1 = df.resample('Y', on='datetime').last()\n",
    "    df2 = df1.join(df.groupby('year')['mag'].max(), on='year',rsuffix='_max')\n",
    "    df3 = df2.join(df.groupby('year')['mag'].count(), on='year',rsuffix='_counts') \n",
    "    df3['year'] = df3.index.year\n",
    "    df3[['mag_counts']] = df3[['mag_counts']].fillna(value=0)\n",
    "    df3[['mag_max']] = df3[['mag_max']].fillna(value=0)\n",
    "\n",
    "    # Calculate the moving averages of magnitude counts\n",
    "    df3['ma1'] = df3['mag_counts'].shift(1).rolling(1).mean()\n",
    "    df3['ma2'] = df3['mag_counts'].shift(1).rolling(2).mean()\n",
    "    df3['ma3'] = df3['mag_counts'].shift(1).rolling(3).mean()\n",
    "    df3['ma4'] = df3['mag_counts'].shift(1).rolling(4).mean()\n",
    "    df3['ma5'] = df3['mag_counts'].shift(1).rolling(5).mean()\n",
    "    df3['ma6'] = df3['mag_counts'].shift(1).rolling(6).mean()\n",
    "    df3['ma7'] = df3['mag_counts'].shift(1).rolling(7).mean()\n",
    "    df3['ma8'] = df3['mag_counts'].shift(1).rolling(8).mean()\n",
    "    df3['ma9'] = df3['mag_counts'].shift(1).rolling(9).mean()\n",
    "    df3['ma10'] = df3['mag_counts'].shift(1).rolling(10).mean()\n",
    "    \n",
    "    \n",
    "    # Calculate median of maximum yearly magnitudes for testing data\n",
    "    med_mag = df3[df3.year<2004].mag_max.median()\n",
    "    print('median maximum yearly mag: ', med_mag)\n",
    "    \n",
    "    # Calculate the probability that the maximum magnitude of n events recorded in the forecasted period will exceed the threshold\n",
    "    df3['prob1'] = df3.apply(lambda x: 1 - (1 - pow(10, x.b*(med_mag-2)))**x.ma1, axis=1)\n",
    "    df3['prob2'] = df3.apply(lambda x: 1 - (1 - pow(10, x.b*(med_mag-2)))**x.ma2, axis=1)\n",
    "    df3['prob3'] = df3.apply(lambda x: 1 - (1 - pow(10, x.b*(med_mag-2)))**x.ma3, axis=1)\n",
    "    df3['prob4'] = df3.apply(lambda x: 1 - (1 - pow(10, x.b*(med_mag-2)))**x.ma4, axis=1)\n",
    "    df3['prob5'] = df3.apply(lambda x: 1 - (1 - pow(10, x.b*(med_mag-2)))**x.ma5, axis=1)\n",
    "    df3['prob6'] = df3.apply(lambda x: 1 - (1 - pow(10, x.b*(med_mag-2)))**x.ma6, axis=1)\n",
    "    df3['prob7'] = df3.apply(lambda x: 1 - (1 - pow(10, x.b*(med_mag-2)))**x.ma7, axis=1)\n",
    "    df3['prob8'] = df3.apply(lambda x: 1 - (1 - pow(10, x.b*(med_mag-2)))**x.ma8, axis=1)\n",
    "    df3['prob9'] = df3.apply(lambda x: 1 - (1 - pow(10, x.b*(med_mag-2)))**x.ma9, axis=1)\n",
    "    df3['prob10'] = df3.apply(lambda x: 1 - (1 - pow(10, x.b*(med_mag-2)))**x.ma10, axis=1)\n",
    " \n",
    "    # Calculate the x6 running averages for up to the last 10 years\n",
    "    df3['x6_1'] = df3['mag_max'].shift(1).rolling(1).mean()\n",
    "    df3['x6_2'] = df3['mag_max'].shift(1).rolling(2).mean()\n",
    "    df3['x6_3'] = df3['mag_max'].shift(1).rolling(3).mean()\n",
    "    df3['x6_4'] = df3['mag_max'].shift(1).rolling(4).mean()\n",
    "    df3['x6_5'] = df3['mag_max'].shift(1).rolling(5).mean()\n",
    "    df3['x6_6'] = df3['mag_max'].shift(1).rolling(6).mean()\n",
    "    df3['x6_7'] = df3['mag_max'].shift(1).rolling(7).mean()\n",
    "    df3['x6_8'] = df3['mag_max'].shift(1).rolling(8).mean()\n",
    "    df3['x6_9'] = df3['mag_max'].shift(1).rolling(9).mean()\n",
    "    df3['x6_10'] = df3['mag_max'].shift(1).rolling(10).mean()\n",
    " \n",
    "    # calculate the 'actual' value if the median_maximum mag is > the median mag for all data\n",
    "    df3.loc[df3['mag_max'] > med_mag, 'actual'] = 1\n",
    "    df3.loc[df3['mag_max'] <= med_mag,'actual'] = 0\n",
    "    df3[['actual']] = df3[['actual']].fillna(value=0)\n",
    "   \n",
    "    return df3"
   ]
  },
  {
   "cell_type": "code",
   "execution_count": null,
   "metadata": {},
   "outputs": [],
   "source": []
  },
  {
   "cell_type": "code",
   "execution_count": null,
   "metadata": {},
   "outputs": [],
   "source": [
    "df = pd.DataFrame()\n",
    "for cl in regs:\n",
    "    df1 = feats(cl,50)\n",
    "    df2 = cayr(df1)\n",
    "    df = pd.concat([df,df2])  # stack the new df on the old ones"
   ]
  },
  {
   "cell_type": "code",
   "execution_count": null,
   "metadata": {
    "scrolled": true
   },
   "outputs": [],
   "source": [
    "file_path = data_dir + \"output\\\\israel_feats_with_all_info.csv\"\n",
    "df.to_csv(file_path, encoding='utf-8', index=False)"
   ]
  },
  {
   "cell_type": "code",
   "execution_count": null,
   "metadata": {},
   "outputs": [],
   "source": [
    "df = df.drop(['mag', 'datetime', 'sqrtEnergy', 'magg', 'a', 'mag_max'], axis=1)\n",
    "len(df.columns)"
   ]
  },
  {
   "cell_type": "code",
   "execution_count": null,
   "metadata": {},
   "outputs": [],
   "source": [
    "df.groupby('region')['year'].count()"
   ]
  },
  {
   "cell_type": "code",
   "execution_count": null,
   "metadata": {},
   "outputs": [],
   "source": [
    "file_path = data_dir + \"output\\\\israel_feats1.csv\"\n",
    "df.to_csv(file_path, encoding='utf-8', index=False)"
   ]
  },
  {
   "cell_type": "code",
   "execution_count": null,
   "metadata": {},
   "outputs": [],
   "source": [
    "# saved this file to disk - then added in the x1-x5 and x7 data into the file"
   ]
  },
  {
   "cell_type": "code",
   "execution_count": null,
   "metadata": {},
   "outputs": [],
   "source": []
  },
  {
   "cell_type": "code",
   "execution_count": null,
   "metadata": {},
   "outputs": [],
   "source": []
  },
  {
   "cell_type": "code",
   "execution_count": null,
   "metadata": {},
   "outputs": [],
   "source": []
  }
 ],
 "metadata": {
  "kernelspec": {
   "display_name": "Python 3",
   "language": "python",
   "name": "python3"
  },
  "language_info": {
   "codemirror_mode": {
    "name": "ipython",
    "version": 3
   },
   "file_extension": ".py",
   "mimetype": "text/x-python",
   "name": "python",
   "nbconvert_exporter": "python",
   "pygments_lexer": "ipython3",
   "version": "3.8.5"
  }
 },
 "nbformat": 4,
 "nbformat_minor": 2
}
