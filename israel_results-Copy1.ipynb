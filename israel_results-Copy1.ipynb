{
 "cells": [
  {
   "cell_type": "code",
   "execution_count": null,
   "metadata": {},
   "outputs": [],
   "source": [
    "# Run algorithms with Israel data"
   ]
  },
  {
   "cell_type": "code",
   "execution_count": 1,
   "metadata": {},
   "outputs": [
    {
     "ename": "ModuleNotFoundError",
     "evalue": "No module named 'geopandas'",
     "output_type": "error",
     "traceback": [
      "\u001b[1;31m---------------------------------------------------------------------------\u001b[0m",
      "\u001b[1;31mModuleNotFoundError\u001b[0m                       Traceback (most recent call last)",
      "\u001b[1;32m<ipython-input-1-8cd5283920ef>\u001b[0m in \u001b[0;36m<module>\u001b[1;34m\u001b[0m\n\u001b[0;32m     10\u001b[0m \u001b[1;32mfrom\u001b[0m \u001b[0mgeopy\u001b[0m \u001b[1;32mimport\u001b[0m \u001b[0mdistance\u001b[0m\u001b[1;33m\u001b[0m\u001b[1;33m\u001b[0m\u001b[0m\n\u001b[0;32m     11\u001b[0m \u001b[1;32mfrom\u001b[0m \u001b[0mgeopy\u001b[0m \u001b[1;32mimport\u001b[0m \u001b[0mPoint\u001b[0m\u001b[1;33m\u001b[0m\u001b[1;33m\u001b[0m\u001b[0m\n\u001b[1;32m---> 12\u001b[1;33m \u001b[1;32mimport\u001b[0m \u001b[0mgeopandas\u001b[0m\u001b[1;33m\u001b[0m\u001b[1;33m\u001b[0m\u001b[0m\n\u001b[0m\u001b[0;32m     13\u001b[0m \u001b[1;32mimport\u001b[0m \u001b[0mshapely\u001b[0m\u001b[1;33m\u001b[0m\u001b[1;33m\u001b[0m\u001b[0m\n\u001b[0;32m     14\u001b[0m \u001b[1;32mfrom\u001b[0m \u001b[0msklearn\u001b[0m\u001b[1;33m.\u001b[0m\u001b[0mlinear_model\u001b[0m \u001b[1;32mimport\u001b[0m \u001b[0mLinearRegression\u001b[0m\u001b[1;33m\u001b[0m\u001b[1;33m\u001b[0m\u001b[0m\n",
      "\u001b[1;31mModuleNotFoundError\u001b[0m: No module named 'geopandas'"
     ]
    }
   ],
   "source": [
    "import math\n",
    "import numpy as np\n",
    "import matplotlib\n",
    "import matplotlib.pyplot as plt\n",
    "from datetime import datetime as dt\n",
    "import seaborn as sns\n",
    "import pandas as pd\n",
    "from os import listdir\n",
    "pd.options.display.float_format = '{:.4f}'.format\n",
    "from geopy import distance\n",
    "from geopy import Point\n",
    "import geopandas\n",
    "import shapely\n",
    "from sklearn.linear_model import LinearRegression\n",
    "from sklearn.metrics import mean_squared_error\n",
    "from sklearn.metrics import auc\n",
    "from sklearn.preprocessing import MinMaxScaler"
   ]
  },
  {
   "cell_type": "code",
   "execution_count": 3,
   "metadata": {},
   "outputs": [
    {
     "name": "stdout",
     "output_type": "stream",
     "text": [
      "Collecting info_gain\n",
      "  Downloading info_gain-1.0.1-py3-none-any.whl (3.3 kB)\n",
      "Installing collected packages: info-gain\n",
      "Successfully installed info-gain-1.0.1\n"
     ]
    }
   ],
   "source": [
    "from sklearn import tree\n",
    "from sklearn.metrics import accuracy_score\n",
    "from sklearn.metrics import confusion_matrix\n",
    "from sklearn.metrics import roc_curve, roc_auc_score\n",
    "from sklearn.model_selection import cross_val_score\n",
    "!pip install info_gain\n",
    "from info_gain import info_gain\n",
    "from sklearn.feature_selection import mutual_info_classif"
   ]
  },
  {
   "cell_type": "code",
   "execution_count": 4,
   "metadata": {},
   "outputs": [],
   "source": [
    "# algorithm to search for the best feature set for C4.5 algorithm\n",
    "\n",
    "def forwardSearch(feats, x_train, y_train, x_test, y_test, number_features):\n",
    "    fset = []\n",
    "    potential_feats = feats.copy()\n",
    "    column_names = ['feature', 'auc']  \n",
    "    while(len(fset)<number_features):\n",
    "        feature_scores = pd.DataFrame(columns = column_names)\n",
    "        feature_scores['feature'] = potential_feats\n",
    "        feature_scores['auc'] = 0\n",
    "        feature_scores.set_index('feature', inplace=True)   \n",
    "        for f in potential_feats:\n",
    "            test_fset = fset.copy()\n",
    "            test_fset.append(f)\n",
    "            #print(\"test_fset: \", test_fset)\n",
    "            feature_scores.loc[f] = runC45(test_fset, x_train, y_train, x_test, y_test)         \n",
    "        #print('feature_scores: ', feature_scores)\n",
    "        my_max = feature_scores[feature_scores['auc']==feature_scores['auc'].max()].index\n",
    "        fset.append(my_max.tolist()[0])\n",
    "        potential_feats.remove(my_max.tolist()[0])\n",
    "        print(\"fset: \", fset, \"auc: \", feature_scores['auc'].max())\n",
    "    return"
   ]
  },
  {
   "cell_type": "code",
   "execution_count": null,
   "metadata": {},
   "outputs": [],
   "source": []
  },
  {
   "cell_type": "code",
   "execution_count": null,
   "metadata": {},
   "outputs": [],
   "source": []
  },
  {
   "cell_type": "code",
   "execution_count": null,
   "metadata": {},
   "outputs": [],
   "source": []
  },
  {
   "cell_type": "code",
   "execution_count": 5,
   "metadata": {},
   "outputs": [],
   "source": [
    "# read Israel earthquake data with all features defined train test and val\n",
    "data_dir = \"C:\\\\Users\\\\User\\\\Debbie\\\\Data\\\\\"\n",
    "file_path = data_dir + \"final_feature_data_used\\\\israel_train.csv\"\n",
    "fileToRead = open(file_path, mode='r')\n",
    "ca_train = pd.read_csv(fileToRead)\n",
    "fileToRead.close()\n",
    "file_path = data_dir + \"final_feature_data_used\\\\israel_val.csv\"\n",
    "fileToRead = open(file_path, mode='r')\n",
    "ca_val = pd.read_csv(fileToRead)\n",
    "fileToRead.close()\n",
    "file_path = data_dir + \"final_feature_data_used\\\\israel_test.csv\"\n",
    "fileToRead = open(file_path, mode='r')\n",
    "ca_test = pd.read_csv(fileToRead)\n",
    "fileToRead.close()"
   ]
  },
  {
   "cell_type": "code",
   "execution_count": 6,
   "metadata": {},
   "outputs": [],
   "source": [
    "# all the variables\n",
    "x_train = ca_train.drop(['actual','mag_counts','region','year'], axis=1)\n",
    "y_train = ca_train['actual']\n",
    "x_test = ca_test.drop(['actual','mag_counts','region','year'], axis=1)\n",
    "y_test = ca_test['actual']\n",
    "x_val = ca_val.drop(['actual','mag_counts','region','year'], axis=1)\n",
    "y_val = ca_val['actual']"
   ]
  },
  {
   "cell_type": "code",
   "execution_count": 7,
   "metadata": {},
   "outputs": [
    {
     "data": {
      "text/plain": [
       "0     1\n",
       "1     1\n",
       "2     1\n",
       "3     0\n",
       "4     0\n",
       "     ..\n",
       "33    0\n",
       "34    1\n",
       "35    0\n",
       "36    0\n",
       "37    1\n",
       "Name: actual, Length: 194, dtype: int64"
      ]
     },
     "execution_count": 7,
     "metadata": {},
     "output_type": "execute_result"
    }
   ],
   "source": [
    "x_train_val = x_train.append(x_val)\n",
    "y_train_val = y_train.append(y_val)\n",
    "y_train_val"
   ]
  },
  {
   "cell_type": "code",
   "execution_count": null,
   "metadata": {},
   "outputs": [],
   "source": []
  },
  {
   "cell_type": "code",
   "execution_count": 8,
   "metadata": {},
   "outputs": [
    {
     "data": {
      "text/plain": [
       "194"
      ]
     },
     "execution_count": 8,
     "metadata": {},
     "output_type": "execute_result"
    }
   ],
   "source": [
    "len(x_train_val)"
   ]
  },
  {
   "cell_type": "code",
   "execution_count": 9,
   "metadata": {},
   "outputs": [
    {
     "data": {
      "text/html": [
       "<div>\n",
       "<style scoped>\n",
       "    .dataframe tbody tr th:only-of-type {\n",
       "        vertical-align: middle;\n",
       "    }\n",
       "\n",
       "    .dataframe tbody tr th {\n",
       "        vertical-align: top;\n",
       "    }\n",
       "\n",
       "    .dataframe thead th {\n",
       "        text-align: right;\n",
       "    }\n",
       "</style>\n",
       "<table border=\"1\" class=\"dataframe\">\n",
       "  <thead>\n",
       "    <tr style=\"text-align: right;\">\n",
       "      <th></th>\n",
       "      <th>tn</th>\n",
       "      <th>meanMag</th>\n",
       "      <th>rateE</th>\n",
       "      <th>b</th>\n",
       "      <th>mse</th>\n",
       "      <th>deltaM</th>\n",
       "      <th>ma1</th>\n",
       "      <th>ma2</th>\n",
       "      <th>ma3</th>\n",
       "      <th>ma4</th>\n",
       "      <th>...</th>\n",
       "      <th>l1_mag_med</th>\n",
       "      <th>l2_mag_med</th>\n",
       "      <th>l3_mag_med</th>\n",
       "      <th>l4_mag_med</th>\n",
       "      <th>l5_mag_med</th>\n",
       "      <th>l6_mag_med</th>\n",
       "      <th>l7_mag_med</th>\n",
       "      <th>l8_mag_med</th>\n",
       "      <th>l9_mag_med</th>\n",
       "      <th>l10_mag_med</th>\n",
       "    </tr>\n",
       "  </thead>\n",
       "  <tbody>\n",
       "    <tr>\n",
       "      <th>0</th>\n",
       "      <td>3243</td>\n",
       "      <td>2.9980</td>\n",
       "      <td>4696738.7230</td>\n",
       "      <td>-0.4333</td>\n",
       "      <td>0.0038</td>\n",
       "      <td>6.0265</td>\n",
       "      <td>5</td>\n",
       "      <td>3.0000</td>\n",
       "      <td>3.0000</td>\n",
       "      <td>3.5000</td>\n",
       "      <td>...</td>\n",
       "      <td>2.7000</td>\n",
       "      <td>2.9000</td>\n",
       "      <td>2.5000</td>\n",
       "      <td>2.3000</td>\n",
       "      <td>2.4000</td>\n",
       "      <td>2.7000</td>\n",
       "      <td>3.8000</td>\n",
       "      <td>3.2000</td>\n",
       "      <td>2.9000</td>\n",
       "      <td>3.7000</td>\n",
       "    </tr>\n",
       "    <tr>\n",
       "      <th>1</th>\n",
       "      <td>1856</td>\n",
       "      <td>2.9420</td>\n",
       "      <td>7393716.9650</td>\n",
       "      <td>-0.4683</td>\n",
       "      <td>0.0023</td>\n",
       "      <td>5.7312</td>\n",
       "      <td>29</td>\n",
       "      <td>17.0000</td>\n",
       "      <td>11.6667</td>\n",
       "      <td>9.5000</td>\n",
       "      <td>...</td>\n",
       "      <td>2.7000</td>\n",
       "      <td>2.7000</td>\n",
       "      <td>2.9000</td>\n",
       "      <td>2.5000</td>\n",
       "      <td>2.3000</td>\n",
       "      <td>2.4000</td>\n",
       "      <td>2.7000</td>\n",
       "      <td>3.8000</td>\n",
       "      <td>3.2000</td>\n",
       "      <td>2.9000</td>\n",
       "    </tr>\n",
       "    <tr>\n",
       "      <th>2</th>\n",
       "      <td>947</td>\n",
       "      <td>2.9520</td>\n",
       "      <td>111345625.9000</td>\n",
       "      <td>-0.4231</td>\n",
       "      <td>0.0123</td>\n",
       "      <td>6.0236</td>\n",
       "      <td>12</td>\n",
       "      <td>20.5000</td>\n",
       "      <td>15.3333</td>\n",
       "      <td>11.7500</td>\n",
       "      <td>...</td>\n",
       "      <td>2.8000</td>\n",
       "      <td>2.7000</td>\n",
       "      <td>2.7000</td>\n",
       "      <td>2.9000</td>\n",
       "      <td>2.5000</td>\n",
       "      <td>2.3000</td>\n",
       "      <td>2.4000</td>\n",
       "      <td>2.7000</td>\n",
       "      <td>3.8000</td>\n",
       "      <td>3.2000</td>\n",
       "    </tr>\n",
       "    <tr>\n",
       "      <th>3</th>\n",
       "      <td>439</td>\n",
       "      <td>2.7820</td>\n",
       "      <td>10326463.7300</td>\n",
       "      <td>-0.5679</td>\n",
       "      <td>0.0049</td>\n",
       "      <td>5.0911</td>\n",
       "      <td>25</td>\n",
       "      <td>18.5000</td>\n",
       "      <td>22.0000</td>\n",
       "      <td>17.7500</td>\n",
       "      <td>...</td>\n",
       "      <td>2.6000</td>\n",
       "      <td>2.8000</td>\n",
       "      <td>2.7000</td>\n",
       "      <td>2.7000</td>\n",
       "      <td>2.9000</td>\n",
       "      <td>2.5000</td>\n",
       "      <td>2.3000</td>\n",
       "      <td>2.4000</td>\n",
       "      <td>2.7000</td>\n",
       "      <td>3.8000</td>\n",
       "    </tr>\n",
       "    <tr>\n",
       "      <th>4</th>\n",
       "      <td>557</td>\n",
       "      <td>2.6360</td>\n",
       "      <td>6354397.8490</td>\n",
       "      <td>-0.6409</td>\n",
       "      <td>0.0034</td>\n",
       "      <td>4.6878</td>\n",
       "      <td>42</td>\n",
       "      <td>33.5000</td>\n",
       "      <td>26.3333</td>\n",
       "      <td>27.0000</td>\n",
       "      <td>...</td>\n",
       "      <td>2.5000</td>\n",
       "      <td>2.6000</td>\n",
       "      <td>2.8000</td>\n",
       "      <td>2.7000</td>\n",
       "      <td>2.7000</td>\n",
       "      <td>2.9000</td>\n",
       "      <td>2.5000</td>\n",
       "      <td>2.3000</td>\n",
       "      <td>2.4000</td>\n",
       "      <td>2.7000</td>\n",
       "    </tr>\n",
       "    <tr>\n",
       "      <th>...</th>\n",
       "      <td>...</td>\n",
       "      <td>...</td>\n",
       "      <td>...</td>\n",
       "      <td>...</td>\n",
       "      <td>...</td>\n",
       "      <td>...</td>\n",
       "      <td>...</td>\n",
       "      <td>...</td>\n",
       "      <td>...</td>\n",
       "      <td>...</td>\n",
       "      <td>...</td>\n",
       "      <td>...</td>\n",
       "      <td>...</td>\n",
       "      <td>...</td>\n",
       "      <td>...</td>\n",
       "      <td>...</td>\n",
       "      <td>...</td>\n",
       "      <td>...</td>\n",
       "      <td>...</td>\n",
       "      <td>...</td>\n",
       "      <td>...</td>\n",
       "    </tr>\n",
       "    <tr>\n",
       "      <th>33</th>\n",
       "      <td>2516</td>\n",
       "      <td>2.5260</td>\n",
       "      <td>1457924.2520</td>\n",
       "      <td>-0.6544</td>\n",
       "      <td>0.0041</td>\n",
       "      <td>4.5376</td>\n",
       "      <td>10</td>\n",
       "      <td>7.0000</td>\n",
       "      <td>7.3333</td>\n",
       "      <td>6.7500</td>\n",
       "      <td>...</td>\n",
       "      <td>2.3000</td>\n",
       "      <td>2.2500</td>\n",
       "      <td>2.5000</td>\n",
       "      <td>2.1000</td>\n",
       "      <td>2.2000</td>\n",
       "      <td>2.2000</td>\n",
       "      <td>2.7000</td>\n",
       "      <td>2.5000</td>\n",
       "      <td>2.4000</td>\n",
       "      <td>2.8000</td>\n",
       "    </tr>\n",
       "    <tr>\n",
       "      <th>34</th>\n",
       "      <td>3485</td>\n",
       "      <td>2.7060</td>\n",
       "      <td>1914342.7050</td>\n",
       "      <td>-0.5446</td>\n",
       "      <td>0.0012</td>\n",
       "      <td>5.1023</td>\n",
       "      <td>4</td>\n",
       "      <td>5.5000</td>\n",
       "      <td>5.0000</td>\n",
       "      <td>6.7500</td>\n",
       "      <td>...</td>\n",
       "      <td>2.8000</td>\n",
       "      <td>2.3000</td>\n",
       "      <td>2.7000</td>\n",
       "      <td>2.4000</td>\n",
       "      <td>2.9000</td>\n",
       "      <td>2.2000</td>\n",
       "      <td>2.0000</td>\n",
       "      <td>3.1000</td>\n",
       "      <td>2.4000</td>\n",
       "      <td>2.9000</td>\n",
       "    </tr>\n",
       "    <tr>\n",
       "      <th>35</th>\n",
       "      <td>5706</td>\n",
       "      <td>2.7320</td>\n",
       "      <td>700831.7810</td>\n",
       "      <td>-0.6318</td>\n",
       "      <td>0.0078</td>\n",
       "      <td>4.8016</td>\n",
       "      <td>1</td>\n",
       "      <td>1.0000</td>\n",
       "      <td>1.0000</td>\n",
       "      <td>1.2500</td>\n",
       "      <td>...</td>\n",
       "      <td>4.0000</td>\n",
       "      <td>2.4000</td>\n",
       "      <td>2.1000</td>\n",
       "      <td>2.3000</td>\n",
       "      <td>2.5000</td>\n",
       "      <td>2.9000</td>\n",
       "      <td>0.0000</td>\n",
       "      <td>2.3000</td>\n",
       "      <td>2.4000</td>\n",
       "      <td>2.2000</td>\n",
       "    </tr>\n",
       "    <tr>\n",
       "      <th>36</th>\n",
       "      <td>5784</td>\n",
       "      <td>3.1200</td>\n",
       "      <td>1564327.5250</td>\n",
       "      <td>-0.5255</td>\n",
       "      <td>0.0120</td>\n",
       "      <td>5.6010</td>\n",
       "      <td>0</td>\n",
       "      <td>0.5000</td>\n",
       "      <td>0.6667</td>\n",
       "      <td>1.5000</td>\n",
       "      <td>...</td>\n",
       "      <td>0.0000</td>\n",
       "      <td>4.1000</td>\n",
       "      <td>2.3000</td>\n",
       "      <td>3.0000</td>\n",
       "      <td>2.1000</td>\n",
       "      <td>2.8500</td>\n",
       "      <td>0.0000</td>\n",
       "      <td>0.0000</td>\n",
       "      <td>3.3000</td>\n",
       "      <td>3.0000</td>\n",
       "    </tr>\n",
       "    <tr>\n",
       "      <th>37</th>\n",
       "      <td>2067</td>\n",
       "      <td>2.7800</td>\n",
       "      <td>3087035.7370</td>\n",
       "      <td>-0.5786</td>\n",
       "      <td>0.0016</td>\n",
       "      <td>5.0253</td>\n",
       "      <td>4</td>\n",
       "      <td>9.0000</td>\n",
       "      <td>8.3333</td>\n",
       "      <td>7.2500</td>\n",
       "      <td>...</td>\n",
       "      <td>2.5000</td>\n",
       "      <td>2.4000</td>\n",
       "      <td>3.1000</td>\n",
       "      <td>2.5500</td>\n",
       "      <td>2.7000</td>\n",
       "      <td>2.9000</td>\n",
       "      <td>2.8000</td>\n",
       "      <td>2.8000</td>\n",
       "      <td>2.9500</td>\n",
       "      <td>2.9000</td>\n",
       "    </tr>\n",
       "  </tbody>\n",
       "</table>\n",
       "<p>194 rows × 82 columns</p>\n",
       "</div>"
      ],
      "text/plain": [
       "      tn  meanMag          rateE       b    mse  deltaM  ma1     ma2     ma3  \\\n",
       "0   3243   2.9980   4696738.7230 -0.4333 0.0038  6.0265    5  3.0000  3.0000   \n",
       "1   1856   2.9420   7393716.9650 -0.4683 0.0023  5.7312   29 17.0000 11.6667   \n",
       "2    947   2.9520 111345625.9000 -0.4231 0.0123  6.0236   12 20.5000 15.3333   \n",
       "3    439   2.7820  10326463.7300 -0.5679 0.0049  5.0911   25 18.5000 22.0000   \n",
       "4    557   2.6360   6354397.8490 -0.6409 0.0034  4.6878   42 33.5000 26.3333   \n",
       "..   ...      ...            ...     ...    ...     ...  ...     ...     ...   \n",
       "33  2516   2.5260   1457924.2520 -0.6544 0.0041  4.5376   10  7.0000  7.3333   \n",
       "34  3485   2.7060   1914342.7050 -0.5446 0.0012  5.1023    4  5.5000  5.0000   \n",
       "35  5706   2.7320    700831.7810 -0.6318 0.0078  4.8016    1  1.0000  1.0000   \n",
       "36  5784   3.1200   1564327.5250 -0.5255 0.0120  5.6010    0  0.5000  0.6667   \n",
       "37  2067   2.7800   3087035.7370 -0.5786 0.0016  5.0253    4  9.0000  8.3333   \n",
       "\n",
       "       ma4  ...  l1_mag_med  l2_mag_med  l3_mag_med  l4_mag_med  l5_mag_med  \\\n",
       "0   3.5000  ...      2.7000      2.9000      2.5000      2.3000      2.4000   \n",
       "1   9.5000  ...      2.7000      2.7000      2.9000      2.5000      2.3000   \n",
       "2  11.7500  ...      2.8000      2.7000      2.7000      2.9000      2.5000   \n",
       "3  17.7500  ...      2.6000      2.8000      2.7000      2.7000      2.9000   \n",
       "4  27.0000  ...      2.5000      2.6000      2.8000      2.7000      2.7000   \n",
       "..     ...  ...         ...         ...         ...         ...         ...   \n",
       "33  6.7500  ...      2.3000      2.2500      2.5000      2.1000      2.2000   \n",
       "34  6.7500  ...      2.8000      2.3000      2.7000      2.4000      2.9000   \n",
       "35  1.2500  ...      4.0000      2.4000      2.1000      2.3000      2.5000   \n",
       "36  1.5000  ...      0.0000      4.1000      2.3000      3.0000      2.1000   \n",
       "37  7.2500  ...      2.5000      2.4000      3.1000      2.5500      2.7000   \n",
       "\n",
       "    l6_mag_med  l7_mag_med  l8_mag_med  l9_mag_med  l10_mag_med  \n",
       "0       2.7000      3.8000      3.2000      2.9000       3.7000  \n",
       "1       2.4000      2.7000      3.8000      3.2000       2.9000  \n",
       "2       2.3000      2.4000      2.7000      3.8000       3.2000  \n",
       "3       2.5000      2.3000      2.4000      2.7000       3.8000  \n",
       "4       2.9000      2.5000      2.3000      2.4000       2.7000  \n",
       "..         ...         ...         ...         ...          ...  \n",
       "33      2.2000      2.7000      2.5000      2.4000       2.8000  \n",
       "34      2.2000      2.0000      3.1000      2.4000       2.9000  \n",
       "35      2.9000      0.0000      2.3000      2.4000       2.2000  \n",
       "36      2.8500      0.0000      0.0000      3.3000       3.0000  \n",
       "37      2.9000      2.8000      2.8000      2.9500       2.9000  \n",
       "\n",
       "[194 rows x 82 columns]"
      ]
     },
     "execution_count": 9,
     "metadata": {},
     "output_type": "execute_result"
    }
   ],
   "source": [
    "x_train_val"
   ]
  },
  {
   "cell_type": "code",
   "execution_count": null,
   "metadata": {},
   "outputs": [],
   "source": []
  },
  {
   "cell_type": "code",
   "execution_count": 10,
   "metadata": {
    "scrolled": true
   },
   "outputs": [],
   "source": [
    "# using rapidminer I got the following results for Israel data IGR above 0.8 (27):\n",
    "igr_feats = ['rateE','x7','b','deltaM','x6_3','x6_7','ma4','ma7','x6_8'\n",
    "             ,'x6_9','x6_10','run25below_all','l1_mag_med','prob4','mse',\n",
    "             'prob1','x6_1' ,'x6_2','x6_4','x6_5','x6_6','count_above25_all',\n",
    "             'per_above_mean25_all','x1','x5','run25_below','l1_mag_mean']"
   ]
  },
  {
   "cell_type": "code",
   "execution_count": 11,
   "metadata": {},
   "outputs": [],
   "source": [
    "marks_vars = ['b', 'ma1', 'prob1', 'ma2', 'prob2', 'ma3',\n",
    "       'prob3', 'ma4', 'prob4', 'ma5', 'prob5', 'ma6', 'prob6', 'ma7', 'prob7',\n",
    "       'ma8', 'prob8', 'ma9', 'prob9', 'ma10', 'prob10', 'tn', 'meanMag',\n",
    "       'rateE', 'mse', 'deltaM']"
   ]
  },
  {
   "cell_type": "code",
   "execution_count": 12,
   "metadata": {},
   "outputs": [
    {
     "data": {
      "text/plain": [
       "82"
      ]
     },
     "execution_count": 12,
     "metadata": {},
     "output_type": "execute_result"
    }
   ],
   "source": [
    "feats = x_train.columns.to_list()\n",
    "len(feats)"
   ]
  },
  {
   "cell_type": "code",
   "execution_count": 13,
   "metadata": {},
   "outputs": [],
   "source": [
    "# C4.5 algorithm "
   ]
  },
  {
   "cell_type": "code",
   "execution_count": 14,
   "metadata": {},
   "outputs": [],
   "source": [
    "from sklearn import tree\n",
    "from sklearn.metrics import accuracy_score\n",
    "from sklearn.metrics import confusion_matrix\n",
    "from sklearn.metrics import roc_curve, roc_auc_score\n",
    "from sklearn.model_selection import cross_val_score"
   ]
  },
  {
   "cell_type": "code",
   "execution_count": 15,
   "metadata": {},
   "outputs": [],
   "source": [
    "model = tree.DecisionTreeClassifier(criterion='entropy', min_samples_split=10)\n",
    "# run c45 model and get auc to use in search \n",
    "def runC45(feat, x_train, y_train, x_test, y_test):   \n",
    "    c45 = model.fit(x_train[feat], y_train)\n",
    "    return roc_auc_score(y_test, c45.predict_proba(x_test[feat])[:,1])"
   ]
  },
  {
   "cell_type": "code",
   "execution_count": 16,
   "metadata": {},
   "outputs": [],
   "source": [
    "model = tree.DecisionTreeClassifier(criterion='entropy',min_samples_split=10)\n",
    "\n",
    "# Routine to just to run c45 and get results\n",
    "def myC45(feat, x_train, y_train, x_test, y_test):\n",
    "\n",
    "    c45 = model.fit(x_train[feat], y_train)\n",
    "    ca_predict = c45.predict(x_test[feat])\n",
    "    ca_predictions = c45.predict_proba(x_test[feat])\n",
    "    print('accuracy: ', accuracy_score(y_test, ca_predict), 'auc: ', roc_auc_score(y_test, ca_predictions[:,1]))\n",
    "    print(pd.DataFrame(\n",
    "        confusion_matrix(y_test, ca_predict),\n",
    "        columns=['Predicted Not Earthquake', 'Predicted Earthquake'],\n",
    "        index=['True Not Earthquake', 'True Earthquake'])\n",
    "    )\n",
    "    fpr, tpr, _ = roc_curve(y_test, ca_predictions[:,1])\n",
    "    plt.clf()\n",
    "    plt.plot(fpr, tpr)\n",
    "    plt.xlabel('FPR')\n",
    "    plt.ylabel('TPR')\n",
    "    plt.title('ROC curve')\n",
    "    plt.show()"
   ]
  },
  {
   "cell_type": "code",
   "execution_count": 17,
   "metadata": {},
   "outputs": [
    {
     "name": "stdout",
     "output_type": "stream",
     "text": [
      "# of features: 82\n"
     ]
    }
   ],
   "source": [
    "# Run C45 on all variables\n",
    "feats = x_train.columns.tolist()\n",
    "print('# of features:', len(feats))"
   ]
  },
  {
   "cell_type": "code",
   "execution_count": 18,
   "metadata": {},
   "outputs": [
    {
     "name": "stdout",
     "output_type": "stream",
     "text": [
      "fset:  ['prob1'] auc:  0.706845238095238\n",
      "fset:  ['prob1', 'x6_7'] auc:  0.8035714285714286\n",
      "fset:  ['prob1', 'x6_7', 'count_above50_all'] auc:  0.8273809523809523\n",
      "fset:  ['prob1', 'x6_7', 'count_above50_all', 'run25_below'] auc:  0.8586309523809524\n",
      "fset:  ['prob1', 'x6_7', 'count_above50_all', 'run25_below', 'x6_6'] auc:  0.8601190476190477\n",
      "fset:  ['prob1', 'x6_7', 'count_above50_all', 'run25_below', 'x6_6', 'ma5'] auc:  0.8601190476190477\n",
      "fset:  ['prob1', 'x6_7', 'count_above50_all', 'run25_below', 'x6_6', 'ma5', 'per_above_mean50'] auc:  0.8630952380952381\n",
      "fset:  ['prob1', 'x6_7', 'count_above50_all', 'run25_below', 'x6_6', 'ma5', 'per_above_mean50', 'run25all'] auc:  0.8660714285714286\n"
     ]
    }
   ],
   "source": [
    "# run search starting with all of the variables\n",
    "forwardSearch(feats, x_train, y_train, x_val, y_val, 8)"
   ]
  },
  {
   "cell_type": "code",
   "execution_count": 19,
   "metadata": {},
   "outputs": [
    {
     "ename": "SyntaxError",
     "evalue": "invalid syntax (<ipython-input-19-3d02473471ce>, line 1)",
     "output_type": "error",
     "traceback": [
      "\u001b[1;36m  File \u001b[1;32m\"<ipython-input-19-3d02473471ce>\"\u001b[1;36m, line \u001b[1;32m1\u001b[0m\n\u001b[1;33m    ['prob1', 'x7', 'prob5', 'prob9', 'run75all', 'run25below_all'] auc:  0.897\u001b[0m\n\u001b[1;37m                                                                    ^\u001b[0m\n\u001b[1;31mSyntaxError\u001b[0m\u001b[1;31m:\u001b[0m invalid syntax\n"
     ]
    }
   ],
   "source": [
    "['prob1', 'x7', 'prob5', 'prob9', 'run75all', 'run25below_all'] auc:  0.897\n",
    "['prob1', 'x7', 'run50all', 'run75below_all', 'run25all', 'prob10'] auc:  0.895\n",
    "['prob1', 'x7', 'prob5', 'prob9', 'run75all'] auc:  0.894\n",
    "['prob1', 'count_above50_all', 'x7', 'x6_2', 'run25', 'l9_mag_med'] auc:  0.873\n",
    "['prob1', 'x6_7', 'per_above_mean50_all', 'ma10', 'l9_mag_med', 'ma3'] auc:  0.872\n",
    "['prob1', 'x7', 'prob8', 'x6_9'] auc:  0.866\n",
    "['prob1', 'count_above50_all', 'x7', 'x6_2'] auc:  0.8616\n",
    "['prob1', 'x6_7', 'count_above50_all', 'run25_below', 'x6_6'] auc:  0.860\n",
    "['prob1', 'x6_7', 'per_above_mean50_all', 'x7', 'l9_mag_med', 'count_above50_all'] auc:  0.860"
   ]
  },
  {
   "cell_type": "code",
   "execution_count": 20,
   "metadata": {},
   "outputs": [],
   "source": [
    "# result from previously\n",
    "c45all_feats = ['prob1', 'x7', 'prob5','l7_mag_med','l5_mag_med']"
   ]
  },
  {
   "cell_type": "code",
   "execution_count": 21,
   "metadata": {},
   "outputs": [
    {
     "name": "stdout",
     "output_type": "stream",
     "text": [
      "accuracy:  0.8157894736842105 auc:  0.84375\n",
      "                     Predicted Not Earthquake  Predicted Earthquake\n",
      "True Not Earthquake                        23                     1\n",
      "True Earthquake                             6                     8\n"
     ]
    },
    {
     "data": {
      "image/png": "[encoded data removed]",
      "text/plain": [
       "<Figure size 432x288 with 1 Axes>"
      ]
     },
     "metadata": {
      "needs_background": "light"
     },
     "output_type": "display_data"
    }
   ],
   "source": [
    "myC45(c45all_feats, x_train, y_train, x_val, y_val)"
   ]
  },
  {
   "cell_type": "code",
   "execution_count": 22,
   "metadata": {},
   "outputs": [
    {
     "name": "stdout",
     "output_type": "stream",
     "text": [
      "fset:  ['prob1'] auc:  0.706845238095238\n",
      "fset:  ['prob1', 'x7'] auc:  0.7857142857142858\n",
      "fset:  ['prob1', 'x7', 'b'] auc:  0.787202380952381\n",
      "fset:  ['prob1', 'x7', 'b', 'mse'] auc:  0.8318452380952381\n",
      "fset:  ['prob1', 'x7', 'b', 'mse', 'ma4'] auc:  0.8482142857142857\n",
      "fset:  ['prob1', 'x7', 'b', 'mse', 'ma4', 'x6_1'] auc:  0.8511904761904762\n",
      "fset:  ['prob1', 'x7', 'b', 'mse', 'ma4', 'x6_1', 'count_above25_all'] auc:  0.8511904761904762\n",
      "fset:  ['prob1', 'x7', 'b', 'mse', 'ma4', 'x6_1', 'count_above25_all', 'x6_8'] auc:  0.8511904761904762\n"
     ]
    }
   ],
   "source": [
    "# run c45 search on igr rapidminer features:\n",
    "forwardSearch(igr_feats, x_train, y_train, x_val, y_val, 8)"
   ]
  }
 ],
 "metadata": {
  "kernelspec": {
   "display_name": "Python 3",
   "language": "python",
   "name": "python3"
  },
  "language_info": {
   "codemirror_mode": {
    "name": "ipython",
    "version": 3
   },
   "file_extension": ".py",
   "mimetype": "text/x-python",
   "name": "python",
   "nbconvert_exporter": "python",
   "pygments_lexer": "ipython3",
   "version": "3.8.5"
  }
 },
 "nbformat": 4,
 "nbformat_minor": 2
}
