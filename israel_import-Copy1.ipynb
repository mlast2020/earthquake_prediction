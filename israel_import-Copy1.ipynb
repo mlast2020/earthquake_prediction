{
 "cells": [
  {
   "cell_type": "code",
   "execution_count": null,
   "metadata": {},
   "outputs": [],
   "source": [
    "import math\n",
    "# !pip install numpy\n",
    "import numpy as np\n",
    "# !pip install matplotlib\n",
    "import matplotlib\n",
    "import matplotlib.pyplot as plt\n",
    "from datetime import datetime as dt\n",
    "# !pip install seaborn\n",
    "import seaborn as sns\n",
    "import pandas as pd\n",
    "from os import listdir\n",
    "pd.options.display.float_format = '{:.4f}'.format\n",
    "# !pip install geopy\n",
    "from geopy import distance\n",
    "from geopy import Point\n",
    "import geopandas\n",
    "import shapely\n",
    "# !pip install geopandas\n",
    "# !pip install shapely\n",
    "# !pip install sklearn\n",
    "from sklearn.linear_model import LinearRegression"
   ]
  },
  {
   "cell_type": "code",
   "execution_count": null,
   "metadata": {},
   "outputs": [],
   "source": [
    "# routine to read in data\n",
    "def readData(mpath):\n",
    "    files = listdir(mpath)\n",
    "    my_data = pd.DataFrame()\n",
    "    for f in files:\n",
    "        # read in next file to process\n",
    "        file = mpath+f\n",
    "        fileToRead = open(file, mode='r')\n",
    "        pr = pd.read_csv(fileToRead)\n",
    "        # append new file to df\n",
    "        my_data = my_data.append(pr, sort=False)\n",
    "        fileToRead.close()\n",
    "    return my_data "
   ]
  },
  {
   "cell_type": "code",
   "execution_count": null,
   "metadata": {},
   "outputs": [],
   "source": [
    "# find the magnitude to lookup in shock_dt table of distances and times per magnitude for foreshock/aftershock algorithm\n",
    "# magnitudes are 2.0, 2.5, 3.0, 3.5, etc.\n",
    "def myfloor(mag):\n",
    "    return .5 * math.floor(float(mag)/.5)"
   ]
  },
  {
   "cell_type": "code",
   "execution_count": null,
   "metadata": {},
   "outputs": [],
   "source": [
    "def fore_after_shocks_distance(df):\n",
    "    num_records = len(df)\n",
    "    #shock = np.full(num_records, 'S', np.str) \n",
    "\n",
    "    foreshocks = 0\n",
    "    aftershocks = 0\n",
    "   # diff = [0]*num_records\n",
    "   # dist_diff = [0]*num_records\n",
    "    shock = ['S']*num_records\n",
    "    for k in range(0, num_records):\n",
    "        # print('k: ', k)\n",
    "        after_shock_win = shock_dt[shock_dt['mag']==myfloor(df.iloc[k].mag)].days.iloc[0] # number of days for the aftershock window\n",
    "        fore_shock_win = after_shock_win/2\n",
    "        shock_dist_win = shock_dt[shock_dt['mag']==myfloor(df.iloc[k].mag)].km.iloc[0] # kilometers for the aftershock dist window\n",
    "        \n",
    "        # identify foreshocks\n",
    "        if k < num_records-1:\n",
    "            next = k + 1\n",
    "            # compute difference to the next record suspicious as mainshock\n",
    "            diff_next = (df.datetime.iloc[next] - df.datetime.iloc[k]).days\n",
    "            # diff[k] = diff_next\n",
    "            dist_diff_next = findDist(df, k, next)\n",
    "            # dist_diff[k] = dist_diff_next\n",
    "            while (diff_next <= fore_shock_win) and (shock[k] == 'S') and (next < num_records):\n",
    "                if (df.iloc[next].mag >= df.iloc[k].mag) and (dist_diff_next <= shock_dist_win):\n",
    "                # if df.iloc[next].mag >= df.iloc[k].mag:\n",
    "                    shock[k] = 'F'\n",
    "                    foreshocks = foreshocks + 1\n",
    "                else:\n",
    "                    next = next + 1\n",
    "                    if next < num_records:\n",
    "                        diff_next = (df.datetime.iloc[next] - df.datetime.iloc[k]).days\n",
    "                        dist_diff_next = findDist(df, k, next)\n",
    "  \n",
    "        # Identify aftershocks\n",
    "        if k > 0:\n",
    "            previous = k-1\n",
    "            # compute difference to the previous record suspicious as mainshock\n",
    "            diff_previous = (df.datetime.iloc[k] - df.datetime.iloc[previous]).days\n",
    "            dist_diff_prev = findDist(df, k, previous)\n",
    "            while (diff_previous < after_shock_win) and (shock[k] != 'A') and (previous >= 0):\n",
    "                if (df.iloc[previous].mag > df.iloc[k].mag)  and (dist_diff_prev <= shock_dist_win): \n",
    "                    shock[k] = 'A'\n",
    "                    aftershocks = aftershocks + 1\n",
    "                else:\n",
    "                    previous = previous - 1\n",
    "                    if previous >= 0:\n",
    "                        # compute difference to the previous suspecious record\n",
    "                        diff_previous = (df.datetime.iloc[k] - df.datetime.iloc[previous]).days\n",
    "                        dist_diff_prev = findDist(df, k, previous)\n",
    "                        \n",
    "    print(\"foreshocks: \", foreshocks, \"aftershocks\", aftershocks, \"shock:\", shock)\n",
    "    return shock"
   ]
  },
  {
   "cell_type": "code",
   "execution_count": null,
   "metadata": {},
   "outputs": [],
   "source": [
    "# read in table of distances and times per magnitude for foreshock / aftershock algorithm\n",
    "data_dir = \"C:\\\\Users\\\\User\\\\Debbie\\\\Data\\\\\"\n",
    "file_path = data_dir + \"example_raw_data\\\\shock_dist_time.csv\"\n",
    "fileToRead = open (file_path, mode='r')\n",
    "shock_dt = pd.read_csv(fileToRead)\n",
    "fileToRead.close()"
   ]
  },
  {
   "cell_type": "code",
   "execution_count": null,
   "metadata": {},
   "outputs": [],
   "source": [
    "shock_dt"
   ]
  },
  {
   "cell_type": "code",
   "execution_count": null,
   "metadata": {},
   "outputs": [],
   "source": [
    "# round to .1\n",
    "def mytenths(mag):\n",
    "    return round(.1 * math.floor(float(mag)/.1), 2)"
   ]
  },
  {
   "cell_type": "code",
   "execution_count": null,
   "metadata": {},
   "outputs": [],
   "source": [
    "mytenths(3.34)"
   ]
  },
  {
   "cell_type": "code",
   "execution_count": null,
   "metadata": {},
   "outputs": [],
   "source": [
    "# use geopy to find the distance between 2 points with latitude, longitude\n",
    "\n",
    "def findDist(df,a,b):\n",
    "    p1 = Point(df.iloc[a].latitude, df.iloc[a].longitude)\n",
    "    p2 = Point(df.iloc[b].latitude, df.iloc[b].longitude)\n",
    "    dist = distance.distance(p1,p2).kilometers\n",
    "    return dist"
   ]
  },
  {
   "cell_type": "code",
   "execution_count": null,
   "metadata": {},
   "outputs": [],
   "source": [
    "def points_from_xy(lat, long):\n",
    "    return [Point(x, y) for x, y in zip(lat, long)]"
   ]
  },
  {
   "cell_type": "code",
   "execution_count": null,
   "metadata": {
    "scrolled": true
   },
   "outputs": [],
   "source": [
    "# shape file for cyprus\n",
    "import geopandas\n",
    "shp_path = data_dir + \"shape\\\\is\\\\CYP_adm0.shp\"\n",
    "#reading Israel data from shape file\n",
    "gdf1 = geopandas.read_file(shp_path)"
   ]
  },
  {
   "cell_type": "code",
   "execution_count": null,
   "metadata": {},
   "outputs": [],
   "source": [
    "# shape file for Israel\n",
    "import geopandas\n",
    "shp_path = data_dir + \"shape\\\\is\\\\ISR_adm0.shp\"\n",
    "#reading Israel data from shape file\n",
    "gdf = geopandas.read_file(shp_path)"
   ]
  },
  {
   "cell_type": "code",
   "execution_count": null,
   "metadata": {},
   "outputs": [],
   "source": [
    "# read all of israel data\n",
    "file_path = data_dir + \"example_raw_data\\\\cat_1983_2019.csv\"\n",
    "fileToRead = open(file_path, mode='r')\n",
    "isd = pd.read_csv(fileToRead)\n",
    "fileToRead.close()\n",
    "isd['datetime'] = pd.to_datetime(isd[['year', 'month', 'day', 'hour','minute']])\n",
    "isd['mag'] = isd[[\"Md\", \"Mb\",\"Mw\"]].max(axis=1)\n",
    "isd = isd[['datetime','mag','depth','latitude','longitude','region','felt']]\n",
    "print ('length isd: ', len(isd))\n",
    "isd.columns"
   ]
  },
  {
   "cell_type": "code",
   "execution_count": null,
   "metadata": {},
   "outputs": [],
   "source": [
    "# 11287 after taking out earthquakes < 2 and those that were 0 (undefined)\n",
    "isrd = isd[isd['mag']>=2.0]\n",
    "len(isrd)"
   ]
  },
  {
   "cell_type": "code",
   "execution_count": null,
   "metadata": {},
   "outputs": [],
   "source": [
    "isrd.groupby('region')['mag'].count().sort_values(ascending=False)"
   ]
  },
  {
   "cell_type": "code",
   "execution_count": null,
   "metadata": {},
   "outputs": [],
   "source": [
    "# took the top 10 regions which is 82% of the data = 19372 / 23676\n",
    "# Lebanon was not in Marks analysis and and Saudia-Arabia was and isn't included here\n",
    "# The total is 8820 which is 78% of the earthquakes with magnitude > 2.0\n",
    "regs = ['Eilat-Deep','Aragonese-Deep','Arava','E.Mediter.Sea','Cyprus','Dead-Sea-Basin','Lebanon',\n",
    "        'Sinai','Arnona-Dakar-Deep','Suez']\n",
    "isdr = isrd[isrd['region'].isin(regs)].reset_index(drop=True)\n",
    "print(len(isdr))\n",
    "isdr.head()"
   ]
  },
  {
   "cell_type": "code",
   "execution_count": null,
   "metadata": {
    "scrolled": true
   },
   "outputs": [],
   "source": [
    "# Plot the number of earthquakes per region\n",
    "eq = isdr.groupby(['region'])['mag'].count().sort_values(ascending=False)\n",
    "fig = plt.figure(figsize=(12,8))\n",
    "plt.title('Clusters of Earthquakes in Israel 1983-2019', fontsize=15)\n",
    "eq.plot.bar()"
   ]
  },
  {
   "cell_type": "code",
   "execution_count": null,
   "metadata": {},
   "outputs": [],
   "source": []
  },
  {
   "cell_type": "code",
   "execution_count": null,
   "metadata": {},
   "outputs": [],
   "source": [
    "# perform forshock / aftershock removal on the california data without noise earthquakes\n",
    "shocks = fore_after_shocks_distance(isdr)\n",
    "\n",
    "# put shock labels back into the df\n",
    "isdr['shocks'] = shocks\n",
    "file_path = data_dir + \"output\\\\israel_shocks.csv\"\n",
    "# save file to disk\n",
    "isdr.to_csv(file_path, encoding='utf-8', index=False)"
   ]
  },
  {
   "cell_type": "code",
   "execution_count": null,
   "metadata": {},
   "outputs": [],
   "source": [
    "# read back in data that was saved to disk\n",
    "fileToRead = open(file_path, mode='r')\n",
    "isdr = pd.read_csv(fileToRead)\n",
    "fileToRead.close()\n",
    "isdr['datetime'] = pd.to_datetime(isdr['datetime'])\n",
    "\n",
    "isdr"
   ]
  },
  {
   "cell_type": "code",
   "execution_count": null,
   "metadata": {},
   "outputs": [],
   "source": [
    "isdr[isdr['region']=='Arnona-Dakar-Deep']"
   ]
  },
  {
   "cell_type": "code",
   "execution_count": null,
   "metadata": {},
   "outputs": [],
   "source": [
    "type(isdr['datetime'][0])"
   ]
  },
  {
   "cell_type": "code",
   "execution_count": null,
   "metadata": {},
   "outputs": [],
   "source": [
    "# see how many of each earthquake type: the catalog is reduced to less than 1/4\n",
    "isdr.groupby('shocks')['mag'].count()"
   ]
  },
  {
   "cell_type": "code",
   "execution_count": null,
   "metadata": {},
   "outputs": [],
   "source": []
  },
  {
   "cell_type": "code",
   "execution_count": null,
   "metadata": {},
   "outputs": [],
   "source": []
  },
  {
   "cell_type": "code",
   "execution_count": null,
   "metadata": {},
   "outputs": [],
   "source": []
  }
 ],
 "metadata": {
  "kernelspec": {
   "display_name": "Python 3",
   "language": "python",
   "name": "python3"
  },
  "language_info": {
   "codemirror_mode": {
    "name": "ipython",
    "version": 3
   },
   "file_extension": ".py",
   "mimetype": "text/x-python",
   "name": "python",
   "nbconvert_exporter": "python",
   "pygments_lexer": "ipython3",
   "version": "3.8.5"
  }
 },
 "nbformat": 4,
 "nbformat_minor": 2
}
